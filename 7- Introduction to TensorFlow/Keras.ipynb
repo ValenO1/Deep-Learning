{
 "cells": [
  {
   "cell_type": "markdown",
   "metadata": {},
   "source": [
    "Keras: The high-level API for TensorFlow \n"
   ]
  },
  {
   "cell_type": "code",
   "execution_count": 31,
   "metadata": {},
   "outputs": [],
   "source": [
    "import tensorflow as tf\n",
    "import keras\n",
    "from keras import layers\n",
    "from keras.models import Sequential"
   ]
  },
  {
   "cell_type": "markdown",
   "metadata": {},
   "source": [
    "Keras Layers"
   ]
  },
  {
   "cell_type": "code",
   "execution_count": 43,
   "metadata": {},
   "outputs": [
    {
     "name": "stdout",
     "output_type": "stream",
     "text": [
      "tf.Tensor(\n",
      "[[-0.54091126  0.08168858  1.0390706   0.31065363]\n",
      " [-0.54091126  0.08168858  1.0390706   0.31065363]\n",
      " [-0.54091126  0.08168858  1.0390706   0.31065363]\n",
      " ...\n",
      " [-0.54091126  0.08168858  1.0390706   0.31065363]\n",
      " [-0.54091126  0.08168858  1.0390706   0.31065363]\n",
      " [-0.54091126  0.08168858  1.0390706   0.31065363]], shape=(1000, 4), dtype=float32)\n"
     ]
    }
   ],
   "source": [
    "layer1 = layers.Dense(10, activation=\"relu\", name=\"hidden1\")\n",
    "layer2 = layers.Dense(64, activation=\"sigmoid\", name = \"hidden2\")\n",
    "layer3 = layers.Dense(4, name = \"output\")\n",
    "x = tf.ones([1000,3])\n",
    "output = layer3(layer2(layer1(x)))\n",
    "print(output)"
   ]
  },
  {
   "cell_type": "markdown",
   "metadata": {},
   "source": [
    "The Sequential model "
   ]
  },
  {
   "cell_type": "code",
   "execution_count": 44,
   "metadata": {},
   "outputs": [
    {
     "name": "stdout",
     "output_type": "stream",
     "text": [
      "Model: \"sequential_10\"\n",
      "_________________________________________________________________\n",
      " Layer (type)                Output Shape              Param #   \n",
      "=================================================================\n",
      " hidden1 (Dense)             (1000, 10)                40        \n",
      "                                                                 \n",
      " hidden2 (Dense)             (1000, 64)                704       \n",
      "                                                                 \n",
      " output (Dense)              (1000, 4)                 260       \n",
      "                                                                 \n",
      "=================================================================\n",
      "Total params: 1,004\n",
      "Trainable params: 1,004\n",
      "Non-trainable params: 0\n",
      "_________________________________________________________________\n"
     ]
    }
   ],
   "source": [
    "model = Sequential()\n",
    "model.add(layer1)\n",
    "model.add(layer2)\n",
    "model.add(layer3)\n",
    "model(x)\n",
    "model.summary()"
   ]
  },
  {
   "cell_type": "code",
   "execution_count": 53,
   "metadata": {},
   "outputs": [
    {
     "name": "stdout",
     "output_type": "stream",
     "text": [
      "Model: \"sequential_18\"\n",
      "_________________________________________________________________\n",
      " Layer (type)                Output Shape              Param #   \n",
      "=================================================================\n",
      " layer1 (Dense)              (None, 8)                 40        \n",
      "                                                                 \n",
      " layer2 (Dense)              (None, 64)                576       \n",
      "                                                                 \n",
      " output (Dense)              (None, 10)                650       \n",
      "                                                                 \n",
      "=================================================================\n",
      "Total params: 1,266\n",
      "Trainable params: 1,266\n",
      "Non-trainable params: 0\n",
      "_________________________________________________________________\n",
      "None\n"
     ]
    }
   ],
   "source": [
    "model = Sequential(\n",
    "    [\n",
    "        layers.Input(4,),\n",
    "        layers.Dense(8,activation=\"relu\", name = \"layer1\"),\n",
    "        layers.Dense(64, activation=\"relu\", name= \"layer2\"),\n",
    "        layers.Dense(10, activation=\"softmax\", name= \"output\")\n",
    "    ]\n",
    ")\n",
    "print(model.summary())"
   ]
  },
  {
   "cell_type": "markdown",
   "metadata": {},
   "source": [
    "Functional API"
   ]
  },
  {
   "cell_type": "code",
   "execution_count": 67,
   "metadata": {},
   "outputs": [],
   "source": [
    "input = layers.Input(shape=(100,))\n",
    "layer1 = layers.Dense(10, activation=\"relu\", name = \"layer1\")(input)\n",
    "layer2 = layers.Dense(20, activation=\"relu\", name = \"layer2\")(layer1)\n",
    "layer3 = layers.Dense(30, activation=\"relu\", name = \"layer3\")(input)"
   ]
  },
  {
   "cell_type": "code",
   "execution_count": null,
   "metadata": {},
   "outputs": [],
   "source": [
    "input = layers.Input(shape=(100,))\n",
    "x = layers.Dense(10, activation=\"relu\", name = \"layer1\")(input)\n",
    "x =layers.Dense(20, activation=\"relu\", name = \"layer2\")(x)\n",
    "x = layers.Dense(15, activation=\"relu\", name = \"layer3\")(x)\n",
    "\n",
    "output1 = layers.Dense(40, activation=\"relu\", name = \"output1\")(x)\n",
    "output2 = layers.Dense(50, activation=\"relu\", name = \"output2\")(x)"
   ]
  }
 ],
 "metadata": {
  "kernelspec": {
   "display_name": "tf",
   "language": "python",
   "name": "python3"
  },
  "language_info": {
   "codemirror_mode": {
    "name": "ipython",
    "version": 3
   },
   "file_extension": ".py",
   "mimetype": "text/x-python",
   "name": "python",
   "nbconvert_exporter": "python",
   "pygments_lexer": "ipython3",
   "version": "3.10.0"
  }
 },
 "nbformat": 4,
 "nbformat_minor": 2
}
