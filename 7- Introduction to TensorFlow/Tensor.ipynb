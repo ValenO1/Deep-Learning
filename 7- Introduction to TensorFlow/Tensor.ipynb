{
 "cells": [
  {
   "cell_type": "markdown",
   "metadata": {},
   "source": [
    "Tensorflow 2"
   ]
  },
  {
   "cell_type": "code",
   "execution_count": 40,
   "metadata": {},
   "outputs": [
    {
     "data": {
      "text/plain": [
       "'2.10.0'"
      ]
     },
     "execution_count": 40,
     "metadata": {},
     "output_type": "execute_result"
    }
   ],
   "source": [
    "import tensorflow as tf\n",
    "import numpy as np\n",
    "tf.__version__"
   ]
  },
  {
   "cell_type": "markdown",
   "metadata": {},
   "source": [
    "Tensor Basics"
   ]
  },
  {
   "cell_type": "code",
   "execution_count": 17,
   "metadata": {},
   "outputs": [
    {
     "name": "stdout",
     "output_type": "stream",
     "text": [
      "tf.Tensor([[1.  2.5 3. ]], shape=(1, 3), dtype=float64)\n"
     ]
    }
   ],
   "source": [
    "my_tensor = tf.constant([1,2.5,3], dtype=tf.float64, shape=(1,3))\n",
    "print(my_tensor)"
   ]
  },
  {
   "cell_type": "code",
   "execution_count": 34,
   "metadata": {},
   "outputs": [
    {
     "name": "stdout",
     "output_type": "stream",
     "text": [
      "tf.Tensor(\n",
      "[[1 2]\n",
      " [3 4]], shape=(2, 2), dtype=int32)\n",
      "tf.Tensor(\n",
      "[[4 5]\n",
      " [6 7]], shape=(2, 2), dtype=int32)\n",
      "tf.Tensor(\n",
      "[[ 5  7]\n",
      " [ 9 11]], shape=(2, 2), dtype=int32)\n",
      "tf.Tensor(\n",
      "[[-3 -3]\n",
      " [-3 -3]], shape=(2, 2), dtype=int32)\n",
      "tf.Tensor(\n",
      "[[ 4 10]\n",
      " [18 28]], shape=(2, 2), dtype=int32)\n",
      "tf.Tensor(\n",
      "[[16 19]\n",
      " [36 43]], shape=(2, 2), dtype=int32)\n"
     ]
    }
   ],
   "source": [
    "a = tf.constant([[1,2],[3,4]])\n",
    "b = tf.constant([[4,5],[6,7]])\n",
    "print(a)\n",
    "print(b)\n",
    "print(tf.add(a,b))\n",
    "print(tf.subtract(a,b))\n",
    "print(tf.multiply(a,b))\n",
    "print(tf.matmul(a,b))"
   ]
  },
  {
   "cell_type": "code",
   "execution_count": 43,
   "metadata": {},
   "outputs": [
    {
     "name": "stdout",
     "output_type": "stream",
     "text": [
      "[[16 19]\n",
      " [36 43]]\n"
     ]
    }
   ],
   "source": [
    "x = np.array([[1,2],\n",
    "              [3,4]])\n",
    "y = np.array([[4,5],\n",
    "              [6,7]])\n",
    "print(x @ y)"
   ]
  },
  {
   "cell_type": "code",
   "execution_count": 46,
   "metadata": {},
   "outputs": [
    {
     "name": "stdout",
     "output_type": "stream",
     "text": [
      "tf.Tensor(\n",
      "[[ 5  7]\n",
      " [ 9 11]], shape=(2, 2), dtype=int32)\n",
      "tf.Tensor(\n",
      "[[-3 -3]\n",
      " [-3 -3]], shape=(2, 2), dtype=int32)\n",
      "tf.Tensor(\n",
      "[[ 4 10]\n",
      " [18 28]], shape=(2, 2), dtype=int32)\n",
      "tf.Tensor(\n",
      "[[16 19]\n",
      " [36 43]], shape=(2, 2), dtype=int32)\n",
      "[[1 2]\n",
      " [3 4]]\n"
     ]
    }
   ],
   "source": [
    "print(a +b)\n",
    "print(a -b)\n",
    "print(a* b)\n",
    "print(a @ b)\n",
    "print(a.numpy())"
   ]
  },
  {
   "cell_type": "code",
   "execution_count": 107,
   "metadata": {},
   "outputs": [
    {
     "name": "stdout",
     "output_type": "stream",
     "text": [
      "tf.Tensor(\n",
      "[[[ 5]\n",
      "  [ 6]]\n",
      "\n",
      " [[ 9]\n",
      "  [ 3]]\n",
      "\n",
      " [[19]\n",
      "  [ 3]]], shape=(3, 2, 1), dtype=int32)\n"
     ]
    }
   ],
   "source": [
    "c = tf.constant([[5,6],\n",
    "                 [9,3],\n",
    "                 [19,3]], shape=(3,2,1))\n",
    "print(c)"
   ]
  },
  {
   "cell_type": "code",
   "execution_count": 100,
   "metadata": {},
   "outputs": [
    {
     "name": "stdout",
     "output_type": "stream",
     "text": [
      "<tf.Variable 'my variable:0' shape=(3,) dtype=int32, numpy=array([10,  2,  3])>\n"
     ]
    }
   ],
   "source": [
    "d = tf.Variable([1,2,3], name=\"my variable\")\n",
    "d[0].assign(10)\n",
    "print(d)"
   ]
  },
  {
   "cell_type": "markdown",
   "metadata": {},
   "source": [
    "Tensor shapes"
   ]
  },
  {
   "cell_type": "code",
   "execution_count": 117,
   "metadata": {},
   "outputs": [
    {
     "name": "stdout",
     "output_type": "stream",
     "text": [
      "tf.Tensor(\n",
      "[[1 6]\n",
      " [8 3]\n",
      " [9 4]], shape=(3, 2), dtype=int32)\n",
      "tf.Tensor(\n",
      "[[1]\n",
      " [6]\n",
      " [8]\n",
      " [3]\n",
      " [9]\n",
      " [4]], shape=(6, 1), dtype=int32)\n"
     ]
    }
   ],
   "source": [
    "c = tf.constant([[1,6],\n",
    "                 [8,3],\n",
    "                 [9,4]])\n",
    "z = tf.reshape(c, [-1,1])\n",
    "print(c)\n",
    "print(z)"
   ]
  },
  {
   "cell_type": "code",
   "execution_count": 111,
   "metadata": {},
   "outputs": [
    {
     "name": "stdout",
     "output_type": "stream",
     "text": [
      "3\n",
      "tf.Tensor(3, shape=(), dtype=int32)\n"
     ]
    }
   ],
   "source": [
    "print(z.ndim)\n",
    "print(tf.rank(z))"
   ]
  },
  {
   "cell_type": "markdown",
   "metadata": {},
   "source": [
    "Tensor indexing"
   ]
  },
  {
   "cell_type": "code",
   "execution_count": 131,
   "metadata": {},
   "outputs": [
    {
     "name": "stdout",
     "output_type": "stream",
     "text": [
      "tf.Tensor([1 2 5 8 9 6 4], shape=(7,), dtype=int32)\n"
     ]
    }
   ],
   "source": [
    "a = tf.constant([4,6,9,8,5,2,1])\n",
    "print(a[::-1])"
   ]
  },
  {
   "cell_type": "code",
   "execution_count": 140,
   "metadata": {},
   "outputs": [
    {
     "name": "stdout",
     "output_type": "stream",
     "text": [
      "tf.Tensor(\n",
      "[[5]\n",
      " [3]], shape=(2, 1), dtype=int32)\n"
     ]
    }
   ],
   "source": [
    "c = tf.constant([[6,5],\n",
    "                 [9,3],\n",
    "                 [4,2]])\n",
    "print(c[0:2,1:])"
   ]
  },
  {
   "cell_type": "code",
   "execution_count": 137,
   "metadata": {},
   "outputs": [
    {
     "name": "stdout",
     "output_type": "stream",
     "text": [
      "2\n"
     ]
    }
   ],
   "source": [
    "x = [[1,2],\n",
    "     [3,4]]\n",
    "x = np.array(x)\n",
    "print(x[0,1])"
   ]
  },
  {
   "cell_type": "markdown",
   "metadata": {},
   "source": [
    "Broadcasting"
   ]
  },
  {
   "cell_type": "code",
   "execution_count": 141,
   "metadata": {},
   "outputs": [
    {
     "name": "stdout",
     "output_type": "stream",
     "text": [
      "tf.Tensor([3 4 5], shape=(3,), dtype=int32)\n"
     ]
    }
   ],
   "source": [
    "a = tf.constant([1,2,3])\n",
    "\n",
    "print(a + 2)"
   ]
  },
  {
   "cell_type": "code",
   "execution_count": 154,
   "metadata": {},
   "outputs": [
    {
     "name": "stdout",
     "output_type": "stream",
     "text": [
      "tf.Tensor(\n",
      "[[1]\n",
      " [2]\n",
      " [3]], shape=(3, 1), dtype=int32)\n",
      "tf.Tensor([[1 2 3 4]], shape=(1, 4), dtype=int32)\n",
      "tf.Tensor(\n",
      "[[2 3 4 5]\n",
      " [3 4 5 6]\n",
      " [4 5 6 7]], shape=(3, 4), dtype=int32)\n"
     ]
    }
   ],
   "source": [
    "x = tf.constant([1,2,3], shape=(3,1))\n",
    "y = tf.constant([1,2,3,4], shape=(1,4))\n",
    "print(x)\n",
    "print(y)\n",
    "print(x + y)"
   ]
  },
  {
   "cell_type": "code",
   "execution_count": 148,
   "metadata": {},
   "outputs": [
    {
     "name": "stdout",
     "output_type": "stream",
     "text": [
      "tf.Tensor(\n",
      "[[1 1 1 1]\n",
      " [2 2 2 2]\n",
      " [3 3 3 3]], shape=(3, 4), dtype=int32)\n",
      "tf.Tensor(\n",
      "[[1 2 3 4]\n",
      " [1 2 3 4]\n",
      " [1 2 3 4]], shape=(3, 4), dtype=int32)\n",
      "tf.Tensor(\n",
      "[[2 3 4 5]\n",
      " [3 4 5 6]\n",
      " [4 5 6 7]], shape=(3, 4), dtype=int32)\n"
     ]
    }
   ],
   "source": [
    "y_stretch = tf.constant([[1,2,3,4],\n",
    "                         [1,2,3,4],\n",
    "                         [1,2,3,4]])\n",
    "x_stretch = tf.constant([[1,1,1,1],\n",
    "                         [2,2,2,2],\n",
    "                         [3,3,3,3]])\n",
    "print(x_stretch)\n",
    "print(y_stretch)\n",
    "print(x_stretch + y_stretch)"
   ]
  },
  {
   "cell_type": "markdown",
   "metadata": {},
   "source": [
    "Ragged Tensors"
   ]
  },
  {
   "cell_type": "code",
   "execution_count": 173,
   "metadata": {},
   "outputs": [
    {
     "name": "stdout",
     "output_type": "stream",
     "text": [
      "(2, None)\n"
     ]
    }
   ],
   "source": [
    "x = tf.ragged.constant([[1,2,3],\n",
    "                        [4,5]])\n",
    "print(x.shape)"
   ]
  },
  {
   "cell_type": "markdown",
   "metadata": {},
   "source": [
    "Sparse Tensors"
   ]
  },
  {
   "cell_type": "code",
   "execution_count": 184,
   "metadata": {},
   "outputs": [
    {
     "name": "stdout",
     "output_type": "stream",
     "text": [
      "[[1. 0. 0.]\n",
      " [0. 1. 0.]\n",
      " [0. 1. 0.]\n",
      " [0. 0. 1.]\n",
      " [1. 0. 0.]]\n"
     ]
    }
   ],
   "source": [
    "from sklearn.preprocessing import OneHotEncoder\n",
    "\n",
    "x = np.array([0,1,1,2,0]).reshape(-1,1)\n",
    "encoder = OneHotEncoder(sparse_output=False)\n",
    "x = encoder.fit_transform(x)\n",
    "print(x)"
   ]
  },
  {
   "cell_type": "code",
   "execution_count": 194,
   "metadata": {},
   "outputs": [
    {
     "name": "stdout",
     "output_type": "stream",
     "text": [
      "SparseTensor(indices=tf.Tensor(\n",
      "[[0 2]\n",
      " [3 1]], shape=(2, 2), dtype=int64), values=tf.Tensor([5 3], shape=(2,), dtype=int32), dense_shape=tf.Tensor([4 3], shape=(2,), dtype=int64))\n",
      "tf.Tensor(\n",
      "[[0 0 5]\n",
      " [0 0 0]\n",
      " [0 0 0]\n",
      " [0 3 0]], shape=(4, 3), dtype=int32)\n"
     ]
    }
   ],
   "source": [
    "x = tf.sparse.SparseTensor(indices=[[0,2], [3, 1]], values=[5,3], dense_shape=[4,3])\n",
    "print(x)\n",
    "print(tf.sparse.to_dense(x))"
   ]
  },
  {
   "cell_type": "code",
   "execution_count": null,
   "metadata": {},
   "outputs": [],
   "source": []
  }
 ],
 "metadata": {
  "kernelspec": {
   "display_name": "tf",
   "language": "python",
   "name": "python3"
  },
  "language_info": {
   "codemirror_mode": {
    "name": "ipython",
    "version": 3
   },
   "file_extension": ".py",
   "mimetype": "text/x-python",
   "name": "python",
   "nbconvert_exporter": "python",
   "pygments_lexer": "ipython3",
   "version": "3.10.0"
  }
 },
 "nbformat": 4,
 "nbformat_minor": 2
}
